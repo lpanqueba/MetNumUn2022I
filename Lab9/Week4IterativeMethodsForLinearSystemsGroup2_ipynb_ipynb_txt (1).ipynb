{
  "nbformat": 4,
  "nbformat_minor": 0,
  "metadata": {
    "kernelspec": {
      "display_name": "Python 3",
      "language": "python",
      "name": "python3"
    },
    "language_info": {
      "codemirror_mode": {
        "name": "ipython",
        "version": 3
      },
      "file_extension": ".py",
      "mimetype": "text/x-python",
      "name": "python",
      "nbconvert_exporter": "python",
      "pygments_lexer": "ipython3",
      "version": "3.5.2"
    },
    "colab": {
      "name": "Week4IterativeMethodsForLinearSystemsGroup2_ipynb.ipynb.txt",
      "provenance": [],
      "collapsed_sections": []
    }
  },
  "cells": [
    {
      "cell_type": "markdown",
      "metadata": {
        "id": "4CjefsnpR1gR"
      },
      "source": [
        "##Simple iteration for systems of linear equations"
      ]
    },
    {
      "cell_type": "markdown",
      "metadata": {
        "id": "UsfZUZNrR1gU"
      },
      "source": [
        "First, generate a random diagonally dominant matrix, for testing."
      ]
    },
    {
      "cell_type": "code",
      "metadata": {
        "collapsed": true,
        "id": "MLRG28reR1gU"
      },
      "source": [
        "import numpy as np\n",
        "rndm = np.random.RandomState(1234)\n",
        "\n",
        "n = 10\n",
        "A = rndm.uniform(size=(n, n)) + np.diagflat([15]*n)\n",
        "b = rndm.uniform(size=n)"
      ],
      "execution_count": 25,
      "outputs": []
    },
    {
      "cell_type": "markdown",
      "metadata": {
        "id": "cx5AVT-WR1gV"
      },
      "source": [
        "# I.  Jacobi iteration\n",
        "\n",
        "Given\n",
        "\n",
        "$$\n",
        "A x = b\n",
        "$$\n",
        "\n",
        "separate the diagonal part $D$,\n",
        "\n",
        "$$ A = D + (A - D) $$\n",
        "\n",
        "and write\n",
        "\n",
        "$$\n",
        "x = D^{-1} (D - A) x + D^{-1} b\\;.\n",
        "$$\n",
        "\n",
        "Then iterate\n",
        "\n",
        "$$\n",
        "x_{n + 1} = B x_{n} + c\\;,\n",
        "$$\n",
        "\n",
        "where \n",
        "\n",
        "$$\n",
        "B = D^{-1} (A - D) \\qquad \\text{and} \\qquad c = D^{-1} b\n",
        "$$\n"
      ]
    },
    {
      "cell_type": "markdown",
      "metadata": {
        "id": "CVKrrtJjR1gW"
      },
      "source": [
        "Let's construct the matrix and the r.h.s. for the Jacobi iteration"
      ]
    },
    {
      "cell_type": "code",
      "metadata": {
        "id": "vtEmstsWR1gW"
      },
      "source": [
        "diag_1d = np.diag(A)\n",
        "\n",
        "B = -A.copy()\n",
        "np.fill_diagonal(B, 0)\n",
        "\n",
        "D = np.diag(diag_1d)\n",
        "invD = np.diag(1./diag_1d)\n",
        "BB = invD @ B \n",
        "c = invD @ b"
      ],
      "execution_count": 26,
      "outputs": []
    },
    {
      "cell_type": "code",
      "metadata": {
        "id": "qBcxsz41R1gX"
      },
      "source": [
        "# sanity checks\n",
        "from numpy.testing import assert_allclose\n",
        "\n",
        "assert_allclose(-B + D, A)\n",
        "\n",
        "\n",
        "# xx is a \"ground truth\" solution, compute it using a direct method\n",
        "xx = np.linalg.solve(A, b)\n",
        "\n",
        "np.testing.assert_allclose(A@xx, b)\n",
        "np.testing.assert_allclose(D@xx, B@xx + b)\n",
        "np.testing.assert_allclose(xx, BB@xx + c)"
      ],
      "execution_count": 27,
      "outputs": []
    },
    {
      "cell_type": "markdown",
      "metadata": {
        "id": "Byqtpv75R1gX"
      },
      "source": [
        "Check that $\\| B\\| \\leqslant 1$:"
      ]
    },
    {
      "cell_type": "code",
      "metadata": {
        "colab": {
          "base_uri": "https://localhost:8080/"
        },
        "id": "2_NjB6znR1gY",
        "outputId": "f0cf28df-ca5d-4f79-b9af-1afd32bb8c5f"
      },
      "source": [
        "np.linalg.norm(BB)"
      ],
      "execution_count": 28,
      "outputs": [
        {
          "output_type": "execute_result",
          "data": {
            "text/plain": [
              "0.36436161983015336"
            ]
          },
          "metadata": {},
          "execution_count": 28
        }
      ]
    },
    {
      "cell_type": "markdown",
      "metadata": {
        "id": "LlNwOiPDR1gZ"
      },
      "source": [
        "### Do the Jacobi iteration"
      ]
    },
    {
      "cell_type": "code",
      "metadata": {
        "collapsed": true,
        "id": "G579KjcoR1ga"
      },
      "source": [
        "n_iter = 50\n",
        "\n",
        "x0 = np.ones(n)\n",
        "x = x0\n",
        "for _ in range(n_iter):\n",
        "    x = BB @ x + c"
      ],
      "execution_count": 29,
      "outputs": []
    },
    {
      "cell_type": "code",
      "metadata": {
        "colab": {
          "base_uri": "https://localhost:8080/"
        },
        "id": "CIPPl4NCR1ga",
        "outputId": "561c98d1-474d-44e2-9467-44e76fd6c994"
      },
      "source": [
        "# Check the result:\n",
        "\n",
        "A @ x - b"
      ],
      "execution_count": 30,
      "outputs": [
        {
          "output_type": "execute_result",
          "data": {
            "text/plain": [
              "array([ 1.11022302e-16,  0.00000000e+00, -2.22044605e-16, -1.11022302e-16,\n",
              "        1.11022302e-16,  0.00000000e+00, -2.08166817e-17,  0.00000000e+00,\n",
              "       -2.77555756e-17,  1.11022302e-16])"
            ]
          },
          "metadata": {},
          "execution_count": 30
        }
      ]
    },
    {
      "cell_type": "markdown",
      "metadata": {
        "id": "l98B-WX4R1gb"
      },
      "source": [
        "### Task I.1\n",
        "\n",
        "Collect the proof-of-concept above into a single function implementing the Jacobi iteration. This function should receive the r.h.s. matrix $A$, the l.h.s. vector `b`, and the number of iterations to perform.\n",
        "\n",
        "\n",
        "The matrix $A$ in the illustration above is strongly diagonally dominant, by construction. \n",
        "What happens if the diagonal matrix elements of $A$ are made smaller? Check the convergence of the Jacobi iteration, and check the value of the norm of $B$.\n",
        "\n",
        "(20% of the total grade)\n"
      ]
    },
    {
      "cell_type": "code",
      "metadata": {
        "collapsed": true,
        "id": "0kDretMZR1gb"
      },
      "source": [
        "#Python 3\n",
        "\n",
        "#Based on the works done in Week 3\n",
        "\n",
        "def J_iter(A, b, eps=1e-12, maxiter=50): \n",
        "    \n",
        "    #Separate the diagonal part\n",
        "    first_diag = np.diag(A) \n",
        "    \n",
        "    B = -A.copy() #Rewrite the matrix\n",
        "\n",
        "    np.fill_diagonal(B, 0) # to iterate we need the diagonal we just got.\n",
        "    invD = np.diag(1.0 / first_diag)\n",
        "    \n",
        "    BB = invD @ B #got the inverse\n",
        "    c = invD @ b \n",
        "    \n",
        "    zero_x = np.ones(n) #then we iterate\n",
        "    for i in range(maxiter): \n",
        "        x = BB @ zero_x + c \n",
        "        \n",
        "        if np.linalg.norm(zero_x - x) < eps: \n",
        "            break\n",
        "        \n",
        "        zero_x = x\n",
        "    \n",
        "    return x "
      ],
      "execution_count": 31,
      "outputs": []
    },
    {
      "cell_type": "markdown",
      "metadata": {
        "id": "KvTmG6oOT_gr"
      },
      "source": [
        "Tests performed *(making use of the allclose NumPy function)*."
      ]
    },
    {
      "cell_type": "code",
      "metadata": {
        "id": "YfhpMXt-UJNL"
      },
      "source": [
        "x = J_iter(A, b)\n",
        "\n",
        "np.testing.assert_allclose(A @ xx, b)\n",
        "np.testing.assert_allclose(xx, x)"
      ],
      "execution_count": 32,
      "outputs": []
    },
    {
      "cell_type": "markdown",
      "metadata": {
        "id": "crqPU-s0UVMb"
      },
      "source": [
        "Now we define a norm function, to check the convergence."
      ]
    },
    {
      "cell_type": "code",
      "metadata": {
        "id": "0Tgln-qzUatj"
      },
      "source": [
        "#Python 3\n",
        "\n",
        "def norm(A):\n",
        "\n",
        "    #Procedure displayed separately from Jacobi Function \n",
        "    diag_1d = np.diag(A)\n",
        "    \n",
        "    B = -A.copy()\n",
        "    np.fill_diagonal(B, 0)\n",
        "    invD = np.diag(1.0 / diag_1d)\n",
        "    \n",
        "    BB = invD @ B\n",
        "\n",
        "    Norm = np.linalg.norm(BB)\n",
        "    \n",
        "    return Norm"
      ],
      "execution_count": 33,
      "outputs": []
    },
    {
      "cell_type": "code",
      "metadata": {
        "colab": {
          "base_uri": "https://localhost:8080/"
        },
        "id": "ZiJV1YLdUpBq",
        "outputId": "a5dcfcec-8dbb-47c9-c1ae-ba0a0e4116f7"
      },
      "source": [
        "# Comparison item vs. item per matrix\n",
        "\n",
        "for k in range(25): \n",
        "    A1 = A + np.diagflat([-k] * n)\n",
        "    B_norm = norm(A1)\n",
        "    x = J_iter(A1, b)\n",
        "    \n",
        "    xx = np.linalg.solve(A1, b)\n",
        "    dist = np.linalg.norm(x - xx)\n",
        "    \n",
        "    print(A1[0, 0], '\\t', B_norm, '\\t', dist)"
      ],
      "execution_count": 34,
      "outputs": [
        {
          "output_type": "stream",
          "name": "stdout",
          "text": [
            "15.191519450378893 \t 0.36436161983015336 \t 8.016978786912722e-14\n",
            "14.191519450378893 \t 0.38959181027260875 \t 1.4606219102174232e-13\n",
            "13.191519450378893 \t 0.4185783948614869 \t 1.1984625025749048e-13\n",
            "12.191519450378893 \t 0.4522284025473819 \t 1.5549631211325743e-13\n",
            "11.191519450378893 \t 0.4917667095178099 \t 1.3761028370012467e-13\n",
            "10.191519450378893 \t 0.5388887887486234 \t 2.670255821207772e-13\n",
            "9.191519450378893 \t 0.5960110344093966 \t 3.1110871466410884e-13\n",
            "8.191519450378893 \t 0.6667001660296402 \t 2.770910834768342e-13\n",
            "7.191519450378893 \t 0.7564517359241753 \t 1.4990529163071287e-10\n",
            "6.191519450378893 \t 0.8742017351588476 \t 2.0161596093475135e-07\n",
            "5.191519450378893 \t 1.0355299928250665 \t 0.0009191717405677889\n",
            "4.191519450378893 \t 1.2702850939751231 \t 23.48163367953916\n",
            "3.191519450378893 \t 1.6439565658213244 \t 8260242.793633645\n",
            "2.191519450378893 \t 2.334809111760855 \t 261149802433164.78\n",
            "1.1915194503788928 \t 4.080768845910033 \t 1.3716691464130671e+26\n",
            "0.19151945037889284 \t 30.715327603064885 \t 1.739863582849129e+61\n",
            "-0.8084805496211072 \t 25.668433387443834 \t 7.8814393778775e+55\n",
            "-1.8084805496211072 \t 3.8385533278362765 \t 1.1479079818548211e+25\n",
            "-2.808480549621107 \t 2.2533561772001827 \t 52372118749887.13\n",
            "-3.808480549621107 \t 1.6031859449057577 \t 1627830.563305912\n",
            "-4.808480549621107 \t 1.24581575811634 \t 46.233686175462694\n",
            "-5.808480549621107 \t 1.019215329207032 \t 0.0008730836032709015\n",
            "-6.808480549621107 \t 0.8625478003698426 \t 1.6544090716892408e-07\n",
            "-7.808480549621107 \t 0.7477110355740726 \t 1.2057564079371141e-10\n",
            "-8.808480549621107 \t 0.6599017255790174 \t 7.573712327846029e-13\n"
          ]
        }
      ]
    },
    {
      "cell_type": "markdown",
      "metadata": {
        "id": "fK9a3n-AR1gb"
      },
      "source": [
        "# II. Seidel's iteration."
      ]
    },
    {
      "cell_type": "markdown",
      "metadata": {
        "id": "pEWe6mgtR1gc"
      },
      "source": [
        "##### Task II.1\n",
        "\n",
        "Implement the Seidel's iteration. \n",
        "\n",
        "Test it on a random matrix. Study the convergence of iterations, relate to the norm of the iteration matrix.\n",
        "\n",
        "(30% of the total grade)"
      ]
    },
    {
      "cell_type": "code",
      "metadata": {
        "collapsed": true,
        "id": "oaAAHZdMR1gc"
      },
      "source": [
        "#Python 3\n",
        "\n",
        "def GS_iter(A, b, eps=1e-15, maxiter=100):\n",
        "\n",
        "    x = np.zeros_like(b, dtype=np.double)\n",
        "    \n",
        "    #Iteration\n",
        "    for k in range(maxiter):\n",
        "        \n",
        "        x_old  = x.copy()\n",
        "        \n",
        "        #Loop over rows\n",
        "        for i in range(A.shape[0]):\n",
        "            x[i] = (b[i] - np.dot(A[i,:i], x[:i]) - np.dot(A[i,(i+1):], x_old[(i+1):])) / A[i ,i]\n",
        "            \n",
        "        #Stop condition \n",
        "        if np.linalg.norm(x - x_old, ord=np.inf) / np.linalg.norm(x, ord=np.inf) < eps:\n",
        "            break\n",
        "            \n",
        "    return x  \n",
        "        "
      ],
      "execution_count": 35,
      "outputs": []
    },
    {
      "cell_type": "code",
      "metadata": {
        "id": "Skre6lm1XpPD"
      },
      "source": [
        "#Random Linear Solveig Test\n",
        "\n",
        "n = 10\n",
        "A = rndm.uniform(size=(n, n)) + np.diagflat([15]*n)\n",
        "b = rndm.uniform(size=n)\n",
        "\n",
        "xx = np.linalg.solve(A, b)"
      ],
      "execution_count": 36,
      "outputs": []
    },
    {
      "cell_type": "code",
      "metadata": {
        "id": "CkWLggEjXxuS"
      },
      "source": [
        "x = GS_iter(A, b)"
      ],
      "execution_count": 37,
      "outputs": []
    },
    {
      "cell_type": "markdown",
      "metadata": {
        "id": "iYoK75C8YDwj"
      },
      "source": [
        "Tests performed *(making use of the allclose NumPy function)*."
      ]
    },
    {
      "cell_type": "code",
      "metadata": {
        "id": "-0tA_L-7X34y"
      },
      "source": [
        "np.testing.assert_allclose(x, xx)\n",
        "np.testing.assert_allclose(A @ x, b)"
      ],
      "execution_count": 38,
      "outputs": []
    },
    {
      "cell_type": "code",
      "metadata": {
        "colab": {
          "base_uri": "https://localhost:8080/"
        },
        "id": "FMoZFPu_YHkS",
        "outputId": "b7cba885-4711-489f-9653-bece60fe96be"
      },
      "source": [
        "#Python 3\n",
        "\n",
        "for k in range(25): \n",
        "    A1 = A + np.diagflat([-k] * n)\n",
        "    B_norm = norm(A1)\n",
        "    x = GS_iter(A1, b)\n",
        "    \n",
        "    xx = np.linalg.solve(A1, b)\n",
        "    dist = np.linalg.norm(x - xx)\n",
        "    \n",
        "    print(A1[0, 0], '\\t', B_norm, '\\t', dist)"
      ],
      "execution_count": 39,
      "outputs": [
        {
          "output_type": "stream",
          "name": "stdout",
          "text": [
            "15.325707414425347 \t 0.3679761958864619 \t 1.672906736921608e-17\n",
            "14.325707414425347 \t 0.39315162237575607 \t 1.788112030672749e-17\n",
            "13.325707414425347 \t 0.42202631543251723 \t 2.256807905702833e-17\n",
            "12.325707414425347 \t 0.45548069473587693 \t 2.2618026913899002e-17\n",
            "11.325707414425347 \t 0.4946988077730063 \t 2.1527352202911037e-17\n",
            "10.325707414425347 \t 0.541311664415742 \t 1.0971354589302191e-17\n",
            "9.325707414425347 \t 0.5976303078076515 \t 4.134323192063813e-17\n",
            "8.325707414425347 \t 0.6670418762840838 \t 3.606598160103105e-17\n",
            "7.325707414425347 \t 0.7547193781175311 \t 2.6550338082614114e-17\n",
            "6.325707414425347 \t 0.8689797529637481 \t 3.0444273447339113e-17\n",
            "5.325707414425347 \t 1.0241070526789309 \t 3.345813473843216e-17\n",
            "4.325707414425347 \t 1.2468971279649803 \t 8.940139411221186e-17\n",
            "3.325707414425347 \t 1.594301462446768 \t 1.2775858592940758e-16\n",
            "2.325707414425347 \t 2.213124726732211 \t 3.3531805433909657e-16\n",
            "1.325707414425347 \t 3.6414476395758366 \t 0.0002698055026768401\n",
            "0.3257074144253469 \t 11.669681525331226 \t 5.74874741697357e+70\n",
            "-0.6742925855746531 \t 26.445408137333857 \t inf\n",
            "-1.674292585574653 \t 4.339078999189703 \t 6.276764506218723e+129\n",
            "-2.674292585574653 \t 2.451867146694581 \t 3.605507996409341e+63\n",
            "-3.674292585574653 \t 1.7144483666294854 \t 6.93834224831627e+28\n",
            "-4.674292585574653 \t 1.319171203925413 \t 1849495.9387142058\n",
            "-5.674292585574653 \t 1.072351699993707 \t 4.609618281356946e-12\n",
            "-6.674292585574653 \t 0.9034654812078322 \t 1.5039322214409696e-15\n",
            "-7.674292585574653 \t 0.7805955142225485 \t 3.078242246215395e-16\n",
            "-8.674292585574653 \t 0.6871738979454427 \t 2.0816681711721685e-16\n"
          ]
        },
        {
          "output_type": "stream",
          "name": "stderr",
          "text": [
            "/usr/local/lib/python3.7/dist-packages/ipykernel_launcher.py:14: RuntimeWarning: overflow encountered in double_scalars\n",
            "  \n",
            "/usr/local/lib/python3.7/dist-packages/ipykernel_launcher.py:17: RuntimeWarning: invalid value encountered in double_scalars\n",
            "/usr/local/lib/python3.7/dist-packages/ipykernel_launcher.py:17: RuntimeWarning: invalid value encountered in subtract\n"
          ]
        }
      ]
    },
    {
      "cell_type": "markdown",
      "metadata": {
        "id": "k1oB7xqrR1gc"
      },
      "source": [
        "# III. Minimum residual scheme"
      ]
    },
    {
      "cell_type": "markdown",
      "metadata": {
        "id": "Li9SeujwR1gc"
      },
      "source": [
        "### Task III.1\n",
        "\n",
        "Implement the $\\textit{minimum residual}$ scheme: an explicit non-stationary method, where at each step you select the iteration parameter $\\tau_n$ to minimize the residual $\\mathbf{r}_{n+1}$ given $\\mathbf{r}_n$. Test it on a random matrix, study the convergence to the solution, in terms of the norm of the residual and the deviation from the ground truth solution (which you can obtain using a direct method). Study how the iteration parameter $\\tau_n$ changes as iterations progress.\n",
        "\n",
        "(50% of the grade)"
      ]
    },
    {
      "cell_type": "code",
      "metadata": {
        "collapsed": true,
        "id": "oDdphCNeR1gc"
      },
      "source": [
        "#Python 3\n",
        "\n",
        "def min_iter(A, b, show_plot=True, eps=1e-12, maxiter=100):\n",
        "    m, n = A.shape \n",
        "    x0 = np.ones(n)\n",
        "    tau_series = []\n",
        "    \n",
        "    for i in range(maxiter): \n",
        "        r = np.matmul(A, x0) - b\n",
        "        temp = np.matmul(A, r)\n",
        "        tau = np.matmul(r, temp) / np.linalg.norm(temp, ord=2)**2\n",
        "        tau_series.append(tau)\n",
        "        x = x0 - tau * r\n",
        "        \n",
        "        if np.linalg.norm(x - x0) < eps: \n",
        "            break\n",
        "        \n",
        "        x0 = x\n",
        "    \n",
        "    return x"
      ],
      "execution_count": 40,
      "outputs": []
    },
    {
      "cell_type": "markdown",
      "metadata": {
        "id": "8zUwe9pGaivq"
      },
      "source": [
        "Tests performed *(making use of the allclose NumPy function)*."
      ]
    },
    {
      "cell_type": "code",
      "metadata": {
        "id": "y3R1pjEZajGS"
      },
      "source": [
        "n = 11\n",
        "A = rndm.uniform(size=(n, n)) + np.diagflat([15]*n)\n",
        "b = rndm.uniform(size=n)\n",
        "\n",
        "xx = np.linalg.solve(A, b)"
      ],
      "execution_count": 41,
      "outputs": []
    },
    {
      "cell_type": "code",
      "metadata": {
        "id": "4LoQPOOAanDy"
      },
      "source": [
        "x = min_iter(A, b)"
      ],
      "execution_count": 42,
      "outputs": []
    },
    {
      "cell_type": "code",
      "metadata": {
        "id": "PISuHgH7ax8K"
      },
      "source": [
        "np.testing.assert_allclose(x, xx)\n",
        "np.testing.assert_allclose(A @ x, b)"
      ],
      "execution_count": 43,
      "outputs": []
    },
    {
      "cell_type": "code",
      "metadata": {
        "colab": {
          "base_uri": "https://localhost:8080/"
        },
        "id": "ruOuEYnba6_i",
        "outputId": "d669fdbd-2848-4352-a308-f86541966924"
      },
      "source": [
        "#Python 3\n",
        "\n",
        "for k in range(25): \n",
        "    A1 = A + np.diagflat([-k] * n)\n",
        "    B_norm = norm(A1)\n",
        "    x = min_iter(A1, b, False)\n",
        "    \n",
        "    xx = np.linalg.solve(A1, b)\n",
        "    dist = np.linalg.norm(x - xx)\n",
        "    \n",
        "    print(A1[0, 0], '\\t', B_norm, '\\t', dist)"
      ],
      "execution_count": 44,
      "outputs": [
        {
          "output_type": "stream",
          "name": "stdout",
          "text": [
            "15.373423707353538 \t 0.39167359220991566 \t 5.025209842450904e-14\n",
            "14.373423707353538 \t 0.41871998752366835 \t 1.4045953812383194e-13\n",
            "13.373423707353538 \t 0.44978267255138044 \t 7.682121250222138e-14\n",
            "12.373423707353538 \t 0.485829106736004 \t 6.157038966183936e-14\n",
            "11.373423707353538 \t 0.5281650586995598 \t 2.4499567095692115e-13\n",
            "10.373423707353538 \t 0.5785969105765894 \t 2.6729280977848453e-13\n",
            "9.373423707353538 \t 0.6396975186388036 \t 1.190744768384478e-13\n",
            "8.373423707353538 \t 0.7152620937341957 \t 2.9649168877109e-13\n",
            "7.373423707353538 \t 0.8111345257323066 \t 3.5571695384155513e-13\n",
            "6.373423707353538 \t 0.9368119826462143 \t 2.7912847570055803e-13\n",
            "5.373423707353538 \t 1.1088478155277142 \t 2.399390577493865e-13\n",
            "4.373423707353538 \t 1.3589675117743596 \t 7.456296534908618e-13\n",
            "3.3734237073535382 \t 1.756927251209329 \t 7.219900424994778e-13\n",
            "2.3734237073535382 \t 2.494015642954862 \t 1.2786472317849565e-12\n",
            "1.3734237073535382 \t 4.385305847336369 \t 3.796054134096273e-05\n",
            "0.37342370735353825 \t 57.51948729461301 \t 6.335379206879038\n",
            "-0.6265762926464618 \t 49.828895827078846 \t 0.990700055961015\n",
            "-1.6265762926464618 \t 4.404041155267467 \t 0.00766280569665664\n",
            "-2.6265762926464618 \t 2.5031815514675477 \t 5.363543156452898e-11\n",
            "-3.6265762926464618 \t 1.7619057439150025 \t 1.1596058711759254e-10\n",
            "-4.626576292646462 \t 1.3620517564979406 \t 0.9435738831205714\n",
            "-5.626576292646462 \t 1.1109366869116881 \t 1.14140719773663e-08\n",
            "-6.626576292646462 \t 0.9383174542559107 \t 1.4978655715317804e-12\n",
            "-7.626576292646462 \t 0.8122699399541138 \t 6.267477231191794e-13\n",
            "-8.626576292646462 \t 0.7161484723416642 \t 4.573320480035908e-13\n"
          ]
        }
      ]
    },
    {
      "cell_type": "code",
      "source": [
        ""
      ],
      "metadata": {
        "id": "wi_vc6W_wxI0"
      },
      "execution_count": 44,
      "outputs": []
    }
  ]
}